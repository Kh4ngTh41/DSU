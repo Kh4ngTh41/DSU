{
 "cells": [
  {
   "cell_type": "code",
   "execution_count": 8,
   "id": "eda38882",
   "metadata": {},
   "outputs": [
    {
     "data": {
      "application/vnd.jupyter.widget-view+json": {
       "model_id": "ed8563abe2bc457bacf8ea0c8cc3579c",
       "version_major": 2,
       "version_minor": 0
      },
      "text/plain": [
       "Map:   0%|          | 0/142 [00:00<?, ? examples/s]"
      ]
     },
     "metadata": {},
     "output_type": "display_data"
    },
    {
     "data": {
      "application/vnd.jupyter.widget-view+json": {
       "model_id": "dcda0b037119407da886ad2d8594ae33",
       "version_major": 2,
       "version_minor": 0
      },
      "text/plain": [
       "Map:   0%|          | 0/16 [00:00<?, ? examples/s]"
      ]
     },
     "metadata": {},
     "output_type": "display_data"
    },
    {
     "data": {
      "application/vnd.jupyter.widget-view+json": {
       "model_id": "d2942254810649d9959e2a206291200a",
       "version_major": 2,
       "version_minor": 0
      },
      "text/plain": [
       "Map:   0%|          | 0/40 [00:00<?, ? examples/s]"
      ]
     },
     "metadata": {},
     "output_type": "display_data"
    },
    {
     "name": "stderr",
     "output_type": "stream",
     "text": [
      "Some weights of RobertaForSequenceClassification were not initialized from the model checkpoint at vinai/phobert-base and are newly initialized: ['classifier.dense.bias', 'classifier.dense.weight', 'classifier.out_proj.bias', 'classifier.out_proj.weight']\n",
      "You should probably TRAIN this model on a down-stream task to be able to use it for predictions and inference.\n",
      "C:\\Users\\acer\\AppData\\Local\\Temp\\ipykernel_34692\\2787949322.py:81: FutureWarning: `tokenizer` is deprecated and will be removed in version 5.0.0 for `Trainer.__init__`. Use `processing_class` instead.\n",
      "  trainer = Trainer(\n"
     ]
    },
    {
     "data": {
      "text/html": [
       "\n",
       "    <div>\n",
       "      \n",
       "      <progress value='180' max='180' style='width:300px; height:20px; vertical-align: middle;'></progress>\n",
       "      [180/180 11:43, Epoch 10/10]\n",
       "    </div>\n",
       "    <table border=\"1\" class=\"dataframe\">\n",
       "  <thead>\n",
       " <tr style=\"text-align: left;\">\n",
       "      <th>Epoch</th>\n",
       "      <th>Training Loss</th>\n",
       "      <th>Validation Loss</th>\n",
       "      <th>Accuracy</th>\n",
       "      <th>Precision</th>\n",
       "      <th>Recall</th>\n",
       "      <th>F1</th>\n",
       "    </tr>\n",
       "  </thead>\n",
       "  <tbody>\n",
       "    <tr>\n",
       "      <td>1</td>\n",
       "      <td>No log</td>\n",
       "      <td>1.069381</td>\n",
       "      <td>0.437500</td>\n",
       "      <td>0.328526</td>\n",
       "      <td>0.437500</td>\n",
       "      <td>0.329861</td>\n",
       "    </tr>\n",
       "    <tr>\n",
       "      <td>2</td>\n",
       "      <td>No log</td>\n",
       "      <td>1.038321</td>\n",
       "      <td>0.625000</td>\n",
       "      <td>0.589286</td>\n",
       "      <td>0.625000</td>\n",
       "      <td>0.562500</td>\n",
       "    </tr>\n",
       "    <tr>\n",
       "      <td>3</td>\n",
       "      <td>No log</td>\n",
       "      <td>1.038259</td>\n",
       "      <td>0.500000</td>\n",
       "      <td>0.329861</td>\n",
       "      <td>0.500000</td>\n",
       "      <td>0.393669</td>\n",
       "    </tr>\n",
       "    <tr>\n",
       "      <td>4</td>\n",
       "      <td>No log</td>\n",
       "      <td>0.965112</td>\n",
       "      <td>0.625000</td>\n",
       "      <td>0.638889</td>\n",
       "      <td>0.625000</td>\n",
       "      <td>0.584821</td>\n",
       "    </tr>\n",
       "    <tr>\n",
       "      <td>5</td>\n",
       "      <td>No log</td>\n",
       "      <td>0.914040</td>\n",
       "      <td>0.687500</td>\n",
       "      <td>0.693750</td>\n",
       "      <td>0.687500</td>\n",
       "      <td>0.687500</td>\n",
       "    </tr>\n",
       "    <tr>\n",
       "      <td>6</td>\n",
       "      <td>No log</td>\n",
       "      <td>0.886102</td>\n",
       "      <td>0.687500</td>\n",
       "      <td>0.716071</td>\n",
       "      <td>0.687500</td>\n",
       "      <td>0.690657</td>\n",
       "    </tr>\n",
       "    <tr>\n",
       "      <td>7</td>\n",
       "      <td>No log</td>\n",
       "      <td>0.846293</td>\n",
       "      <td>0.687500</td>\n",
       "      <td>0.718750</td>\n",
       "      <td>0.687500</td>\n",
       "      <td>0.671474</td>\n",
       "    </tr>\n",
       "    <tr>\n",
       "      <td>8</td>\n",
       "      <td>No log</td>\n",
       "      <td>0.836949</td>\n",
       "      <td>0.562500</td>\n",
       "      <td>0.379464</td>\n",
       "      <td>0.562500</td>\n",
       "      <td>0.452724</td>\n",
       "    </tr>\n",
       "    <tr>\n",
       "      <td>9</td>\n",
       "      <td>No log</td>\n",
       "      <td>0.793015</td>\n",
       "      <td>0.812500</td>\n",
       "      <td>0.810417</td>\n",
       "      <td>0.812500</td>\n",
       "      <td>0.806818</td>\n",
       "    </tr>\n",
       "    <tr>\n",
       "      <td>10</td>\n",
       "      <td>No log</td>\n",
       "      <td>0.796783</td>\n",
       "      <td>0.812500</td>\n",
       "      <td>0.810417</td>\n",
       "      <td>0.812500</td>\n",
       "      <td>0.806818</td>\n",
       "    </tr>\n",
       "  </tbody>\n",
       "</table><p>"
      ],
      "text/plain": [
       "<IPython.core.display.HTML object>"
      ]
     },
     "metadata": {},
     "output_type": "display_data"
    },
    {
     "name": "stderr",
     "output_type": "stream",
     "text": [
      "c:\\Users\\acer\\anaconda3\\Lib\\site-packages\\sklearn\\metrics\\_classification.py:1531: UndefinedMetricWarning: Precision is ill-defined and being set to 0.0 in labels with no predicted samples. Use `zero_division` parameter to control this behavior.\n",
      "  _warn_prf(average, modifier, f\"{metric.capitalize()} is\", len(result))\n"
     ]
    },
    {
     "data": {
      "text/html": [
       "\n",
       "    <div>\n",
       "      \n",
       "      <progress value='10' max='5' style='width:300px; height:20px; vertical-align: middle;'></progress>\n",
       "      [5/5 00:43]\n",
       "    </div>\n",
       "    "
      ],
      "text/plain": [
       "<IPython.core.display.HTML object>"
      ]
     },
     "metadata": {},
     "output_type": "display_data"
    },
    {
     "name": "stdout",
     "output_type": "stream",
     "text": [
      "Test set results: {'eval_loss': 0.9287965893745422, 'eval_accuracy': 0.525, 'eval_precision': 0.5664473684210527, 'eval_recall': 0.525, 'eval_f1': 0.5179976851851851, 'eval_runtime': 0.7798, 'eval_samples_per_second': 51.295, 'eval_steps_per_second': 6.412, 'epoch': 10.0}\n"
     ]
    }
   ],
   "source": [
    "!pip install transformers datasets accelerate evaluate -q\n",
    "\n",
    "import pandas as pd\n",
    "from datasets import Dataset\n",
    "from transformers import AutoTokenizer, AutoModelForSequenceClassification, TrainingArguments, Trainer\n",
    "import evaluate\n",
    "import numpy as np\n",
    "from sklearn.metrics import accuracy_score, precision_recall_fscore_support\n",
    "\n",
    "# ============== LOAD DATA ==============\n",
    "df_train = pd.read_csv(\"train.csv\")\n",
    "df_val   = pd.read_csv(\"val.csv\")\n",
    "df_test  = pd.read_csv(\"test.csv\")\n",
    "\n",
    "# Dataset HuggingFace format\n",
    "train_dataset = Dataset.from_pandas(df_train)\n",
    "val_dataset   = Dataset.from_pandas(df_val)\n",
    "test_dataset  = Dataset.from_pandas(df_test)\n",
    "\n",
    "# ============== TOKENIZER ==============\n",
    "model_name = \"vinai/phobert-base\"   # hoặc \"xlm-roberta-base\"\n",
    "tokenizer = AutoTokenizer.from_pretrained(model_name, use_fast=True)\n",
    "\n",
    "# map labels -> id\n",
    "labels = sorted(df_train[\"label\"].unique())\n",
    "label2id = {l: i for i, l in enumerate(labels)}\n",
    "id2label = {i: l for l, i in label2id.items()}\n",
    "\n",
    "def encode(examples):\n",
    "    # input = context + prompt\n",
    "    texts = [str(c) + \" \" + str(p) for c, p in zip(examples[\"context\"], examples[\"prompt\"])]\n",
    "    enc = tokenizer(texts, truncation=True, padding=\"max_length\", max_length=128)\n",
    "    enc[\"labels\"] = [label2id[l] for l in examples[\"label\"]]\n",
    "    return enc\n",
    "\n",
    "train_dataset = train_dataset.map(encode, batched=True)\n",
    "val_dataset   = val_dataset.map(encode, batched=True)\n",
    "test_dataset  = test_dataset.map(encode, batched=True)\n",
    "\n",
    "train_dataset.set_format(type=\"torch\", columns=[\"input_ids\",\"attention_mask\",\"labels\"])\n",
    "val_dataset.set_format(type=\"torch\", columns=[\"input_ids\",\"attention_mask\",\"labels\"])\n",
    "test_dataset.set_format(type=\"torch\", columns=[\"input_ids\",\"attention_mask\",\"labels\"])\n",
    "\n",
    "# ============== MODEL ==============\n",
    "model = AutoModelForSequenceClassification.from_pretrained(\n",
    "    model_name,\n",
    "    num_labels=len(labels),\n",
    "    id2label=id2label,\n",
    "    label2id=label2id\n",
    ")\n",
    "\n",
    "# ============== METRICS ==============\n",
    "metric = evaluate.load(\"accuracy\")\n",
    "\n",
    "def compute_metrics(eval_pred):\n",
    "    logits, labels = eval_pred\n",
    "    preds = np.argmax(logits, axis=-1)\n",
    "    acc = accuracy_score(labels, preds)\n",
    "    precision, recall, f1, _ = precision_recall_fscore_support(labels, preds, average=\"weighted\")\n",
    "    return {\n",
    "        \"accuracy\": acc,\n",
    "        \"precision\": precision,\n",
    "        \"recall\": recall,\n",
    "        \"f1\": f1,\n",
    "    }\n",
    "\n",
    "# ============== TRAINING ==============\n",
    "training_args = TrainingArguments(\n",
    "    output_dir=\"./results\",\n",
    "    eval_strategy=\"epoch\",     # ✅ đổi từ evaluation_strategy\n",
    "    save_strategy=\"epoch\",\n",
    "    learning_rate=2e-5,\n",
    "    per_device_train_batch_size=8,\n",
    "    per_device_eval_batch_size=8,\n",
    "    num_train_epochs=10,\n",
    "    weight_decay=0.01,\n",
    "    load_best_model_at_end=True,\n",
    "    metric_for_best_model=\"accuracy\"\n",
    ")\n",
    "\n",
    "trainer = Trainer(\n",
    "    model=model,\n",
    "    args=training_args,\n",
    "    train_dataset=train_dataset,\n",
    "    eval_dataset=val_dataset,\n",
    "    tokenizer=tokenizer,\n",
    "    compute_metrics=compute_metrics,\n",
    ")\n",
    "\n",
    "trainer.train()\n",
    "\n",
    "# ============== EVALUATE ==============\n",
    "results = trainer.evaluate(test_dataset)\n",
    "print(\"Test set results:\", results)\n"
   ]
  },
  {
   "cell_type": "code",
   "execution_count": 9,
   "id": "a9e1c845",
   "metadata": {},
   "outputs": [
    {
     "name": "stdout",
     "output_type": "stream",
     "text": [
      "\n",
      "📊 Evaluation on Test set:\n",
      "eval_loss: 0.9288\n",
      "eval_accuracy: 0.5250\n",
      "eval_precision: 0.5664\n",
      "eval_recall: 0.5250\n",
      "eval_f1: 0.5180\n",
      "eval_runtime: 0.9717\n",
      "eval_samples_per_second: 41.1650\n",
      "eval_steps_per_second: 5.1460\n",
      "epoch: 10.0000\n"
     ]
    }
   ],
   "source": [
    "results = trainer.evaluate(test_dataset)\n",
    "print(\"\\n📊 Evaluation on Test set:\")\n",
    "for k, v in results.items():\n",
    "    print(f\"{k}: {v:.4f}\")"
   ]
  }
 ],
 "metadata": {
  "kernelspec": {
   "display_name": "base",
   "language": "python",
   "name": "python3"
  },
  "language_info": {
   "codemirror_mode": {
    "name": "ipython",
    "version": 3
   },
   "file_extension": ".py",
   "mimetype": "text/x-python",
   "name": "python",
   "nbconvert_exporter": "python",
   "pygments_lexer": "ipython3",
   "version": "3.12.7"
  }
 },
 "nbformat": 4,
 "nbformat_minor": 5
}
